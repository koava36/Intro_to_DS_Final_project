{
 "cells": [
  {
   "cell_type": "markdown",
   "metadata": {},
   "source": [
    "# Starter Notebook\n",
    "\n",
    "The goal of this notebook is to provide a brief introduction to the challenge and the data associated with it. It won't go into detail on a solution approach since this is a challenge which may be approached in a number of ways."
   ]
  },
  {
   "cell_type": "code",
   "execution_count": 2,
   "metadata": {},
   "outputs": [
    {
     "name": "stdout",
     "output_type": "stream",
     "text": [
      "Collecting geopandas\n",
      "  Downloading geopandas-0.8.1-py2.py3-none-any.whl (962 kB)\n",
      "\u001b[K     |████████████████████████████████| 962 kB 417 kB/s eta 0:00:01\n",
      "\u001b[?25hCollecting pyproj>=2.2.0\n",
      "  Downloading pyproj-2.6.1.post1-cp37-cp37m-macosx_10_9_x86_64.whl (13.0 MB)\n",
      "\u001b[K     |████████████████████████████████| 13.0 MB 390 kB/s eta 0:00:01\n",
      "\u001b[?25hRequirement already satisfied: pandas>=0.23.0 in /Users/dmitrii/opt/anaconda3/lib/python3.7/site-packages (from geopandas) (0.25.1)\n",
      "Collecting shapely\n",
      "  Downloading Shapely-1.7.1-cp37-cp37m-macosx_10_9_x86_64.whl (1.0 MB)\n",
      "\u001b[K     |████████████████████████████████| 1.0 MB 440 kB/s eta 0:00:01\n",
      "\u001b[?25hCollecting fiona\n",
      "  Downloading Fiona-1.8.17-cp37-cp37m-macosx_10_9_x86_64.whl (14.0 MB)\n",
      "\u001b[K     |████████████████████████████████| 14.0 MB 439 kB/s eta 0:00:01\n",
      "\u001b[?25hRequirement already satisfied: python-dateutil>=2.6.1 in /Users/dmitrii/opt/anaconda3/lib/python3.7/site-packages (from pandas>=0.23.0->geopandas) (2.8.0)\n",
      "Requirement already satisfied: numpy>=1.13.3 in /Users/dmitrii/opt/anaconda3/lib/python3.7/site-packages (from pandas>=0.23.0->geopandas) (1.17.2)\n",
      "Requirement already satisfied: pytz>=2017.2 in /Users/dmitrii/opt/anaconda3/lib/python3.7/site-packages (from pandas>=0.23.0->geopandas) (2019.3)\n",
      "Requirement already satisfied: six>=1.7 in /Users/dmitrii/opt/anaconda3/lib/python3.7/site-packages (from fiona->geopandas) (1.12.0)\n",
      "Requirement already satisfied: attrs>=17 in /Users/dmitrii/opt/anaconda3/lib/python3.7/site-packages (from fiona->geopandas) (19.2.0)\n",
      "Collecting click-plugins>=1.0\n",
      "  Downloading click_plugins-1.1.1-py2.py3-none-any.whl (7.5 kB)\n",
      "Requirement already satisfied: click<8,>=4.0 in /Users/dmitrii/opt/anaconda3/lib/python3.7/site-packages (from fiona->geopandas) (7.0)\n",
      "Collecting munch\n",
      "  Downloading munch-2.5.0-py2.py3-none-any.whl (10 kB)\n",
      "Collecting cligj>=0.5\n",
      "  Downloading cligj-0.5.0-py3-none-any.whl (5.7 kB)\n",
      "Installing collected packages: pyproj, shapely, click-plugins, munch, cligj, fiona, geopandas\n",
      "Successfully installed click-plugins-1.1.1 cligj-0.5.0 fiona-1.8.17 geopandas-0.8.1 munch-2.5.0 pyproj-2.6.1.post1 shapely-1.7.1\n",
      "\u001b[33mWARNING: You are using pip version 20.1.1; however, version 20.2.4 is available.\n",
      "You should consider upgrading via the '/Users/dmitrii/opt/anaconda3/bin/python -m pip install --upgrade pip' command.\u001b[0m\n",
      "Note: you may need to restart the kernel to use updated packages.\n"
     ]
    }
   ],
   "source": [
    "pip install geopandas\n"
   ]
  },
  {
   "cell_type": "code",
   "execution_count": 3,
   "metadata": {},
   "outputs": [],
   "source": [
    "import pandas as pd\n",
    "import geopandas as gpd # For loading the map of road segments"
   ]
  },
  {
   "cell_type": "markdown",
   "metadata": {},
   "source": [
    "# The Challenge\n",
    "\n",
    "The main dataset for this challenge (in Train.csv) is a record of crashes within Nairobi over 2018-19. Each crash has an associated datetime and location. Let's load the data and take a look."
   ]
  },
  {
   "cell_type": "code",
   "execution_count": 5,
   "metadata": {},
   "outputs": [
    {
     "name": "stdout",
     "output_type": "stream",
     "text": [
      "(6318, 4)\n"
     ]
    },
    {
     "data": {
      "text/html": [
       "<div>\n",
       "<style scoped>\n",
       "    .dataframe tbody tr th:only-of-type {\n",
       "        vertical-align: middle;\n",
       "    }\n",
       "\n",
       "    .dataframe tbody tr th {\n",
       "        vertical-align: top;\n",
       "    }\n",
       "\n",
       "    .dataframe thead th {\n",
       "        text-align: right;\n",
       "    }\n",
       "</style>\n",
       "<table border=\"1\" class=\"dataframe\">\n",
       "  <thead>\n",
       "    <tr style=\"text-align: right;\">\n",
       "      <th></th>\n",
       "      <th>uid</th>\n",
       "      <th>datetime</th>\n",
       "      <th>latitude</th>\n",
       "      <th>longitude</th>\n",
       "    </tr>\n",
       "  </thead>\n",
       "  <tbody>\n",
       "    <tr>\n",
       "      <td>0</td>\n",
       "      <td>1</td>\n",
       "      <td>2018-01-01 00:25:46</td>\n",
       "      <td>-1.188850</td>\n",
       "      <td>36.931382</td>\n",
       "    </tr>\n",
       "    <tr>\n",
       "      <td>1</td>\n",
       "      <td>2</td>\n",
       "      <td>2018-01-01 02:02:39</td>\n",
       "      <td>-0.662939</td>\n",
       "      <td>37.208730</td>\n",
       "    </tr>\n",
       "    <tr>\n",
       "      <td>2</td>\n",
       "      <td>3</td>\n",
       "      <td>2018-01-01 02:31:49</td>\n",
       "      <td>-0.662939</td>\n",
       "      <td>37.208730</td>\n",
       "    </tr>\n",
       "    <tr>\n",
       "      <td>3</td>\n",
       "      <td>4</td>\n",
       "      <td>2018-01-01 03:04:01</td>\n",
       "      <td>-1.288087</td>\n",
       "      <td>36.826583</td>\n",
       "    </tr>\n",
       "    <tr>\n",
       "      <td>4</td>\n",
       "      <td>5</td>\n",
       "      <td>2018-01-01 03:58:49</td>\n",
       "      <td>-1.188850</td>\n",
       "      <td>36.931382</td>\n",
       "    </tr>\n",
       "  </tbody>\n",
       "</table>\n",
       "</div>"
      ],
      "text/plain": [
       "   uid            datetime  latitude  longitude\n",
       "0    1 2018-01-01 00:25:46 -1.188850  36.931382\n",
       "1    2 2018-01-01 02:02:39 -0.662939  37.208730\n",
       "2    3 2018-01-01 02:31:49 -0.662939  37.208730\n",
       "3    4 2018-01-01 03:04:01 -1.288087  36.826583\n",
       "4    5 2018-01-01 03:58:49 -1.188850  36.931382"
      ]
     },
     "execution_count": 5,
     "metadata": {},
     "output_type": "execute_result"
    }
   ],
   "source": [
    "# Load the data\n",
    "df = pd.read_csv('Data/Train.csv', parse_dates=['datetime'])\n",
    "print(df.shape)\n",
    "df.head()"
   ]
  },
  {
   "cell_type": "code",
   "execution_count": 7,
   "metadata": {},
   "outputs": [
    {
     "data": {
      "text/plain": [
       "<matplotlib.axes._subplots.AxesSubplot at 0x7fe12c9f9050>"
      ]
     },
     "execution_count": 7,
     "metadata": {},
     "output_type": "execute_result"
    },
    {
     "data": {
      "image/png": "[encoded data removed]",
      "text/plain": [
       "<Figure size 864x864 with 1 Axes>"
      ]
     },
     "metadata": {
      "needs_background": "light"
     },
     "output_type": "display_data"
    }
   ],
   "source": [
    "# Plot the crashes\n",
    "\n",
    "df.plot(x='longitude', y='latitude', kind='scatter', figsize=(12, 12), alpha=0.3, title='Crash Locations')\n"
   ]
  },
  {
   "cell_type": "code",
   "execution_count": 56,
   "metadata": {},
   "outputs": [],
   "source": [
    "\n",
    "df['Date'] = pd.to_datetime(df['Date'])"
   ]
  },
  {
   "cell_type": "code",
   "execution_count": 31,
   "metadata": {
    "scrolled": true
   },
   "outputs": [
    {
     "data": {
      "text/html": [
       "<div>\n",
       "<style scoped>\n",
       "    .dataframe tbody tr th:only-of-type {\n",
       "        vertical-align: middle;\n",
       "    }\n",
       "\n",
       "    .dataframe tbody tr th {\n",
       "        vertical-align: top;\n",
       "    }\n",
       "\n",
       "    .dataframe thead th {\n",
       "        text-align: right;\n",
       "    }\n",
       "</style>\n",
       "<table border=\"1\" class=\"dataframe\">\n",
       "  <thead>\n",
       "    <tr style=\"text-align: right;\">\n",
       "      <th></th>\n",
       "      <th>uid</th>\n",
       "      <th>datetime</th>\n",
       "      <th>latitude</th>\n",
       "      <th>longitude</th>\n",
       "      <th>just_date</th>\n",
       "    </tr>\n",
       "  </thead>\n",
       "  <tbody>\n",
       "    <tr>\n",
       "      <td>0</td>\n",
       "      <td>1</td>\n",
       "      <td>2018-01-01 00:25:46</td>\n",
       "      <td>-1.188850</td>\n",
       "      <td>36.931382</td>\n",
       "      <td>2018-01-01</td>\n",
       "    </tr>\n",
       "    <tr>\n",
       "      <td>1</td>\n",
       "      <td>2</td>\n",
       "      <td>2018-01-01 02:02:39</td>\n",
       "      <td>-0.662939</td>\n",
       "      <td>37.208730</td>\n",
       "      <td>2018-01-01</td>\n",
       "    </tr>\n",
       "    <tr>\n",
       "      <td>2</td>\n",
       "      <td>3</td>\n",
       "      <td>2018-01-01 02:31:49</td>\n",
       "      <td>-0.662939</td>\n",
       "      <td>37.208730</td>\n",
       "      <td>2018-01-01</td>\n",
       "    </tr>\n",
       "    <tr>\n",
       "      <td>3</td>\n",
       "      <td>4</td>\n",
       "      <td>2018-01-01 03:04:01</td>\n",
       "      <td>-1.288087</td>\n",
       "      <td>36.826583</td>\n",
       "      <td>2018-01-01</td>\n",
       "    </tr>\n",
       "    <tr>\n",
       "      <td>4</td>\n",
       "      <td>5</td>\n",
       "      <td>2018-01-01 03:58:49</td>\n",
       "      <td>-1.188850</td>\n",
       "      <td>36.931382</td>\n",
       "      <td>2018-01-01</td>\n",
       "    </tr>\n",
       "  </tbody>\n",
       "</table>\n",
       "</div>"
      ],
      "text/plain": [
       "   uid            datetime  latitude  longitude   just_date\n",
       "0    1 2018-01-01 00:25:46 -1.188850  36.931382  2018-01-01\n",
       "1    2 2018-01-01 02:02:39 -0.662939  37.208730  2018-01-01\n",
       "2    3 2018-01-01 02:31:49 -0.662939  37.208730  2018-01-01\n",
       "3    4 2018-01-01 03:04:01 -1.288087  36.826583  2018-01-01\n",
       "4    5 2018-01-01 03:58:49 -1.188850  36.931382  2018-01-01"
      ]
     },
     "execution_count": 31,
     "metadata": {},
     "output_type": "execute_result"
    }
   ],
   "source": [
    "df.head()"
   ]
  },
  {
   "cell_type": "code",
   "execution_count": 54,
   "metadata": {},
   "outputs": [
    {
     "data": {
      "text/plain": [
       "uid                   int64\n",
       "datetime     datetime64[ns]\n",
       "latitude            float64\n",
       "longitude           float64\n",
       "just_date            object\n",
       "Date                 object\n",
       "dtype: object"
      ]
     },
     "execution_count": 54,
     "metadata": {},
     "output_type": "execute_result"
    }
   ],
   "source": [
    "df['Date']."
   ]
  },
  {
   "cell_type": "markdown",
   "metadata": {},
   "source": [
    "Rather than trying to predict accident locations or the number of accidents in a given timeframe, we are instead asked to come up with an ambulance deployment schedule that will minimise distance travelled. \n",
    "\n",
    "This is of course a simplification of the problem, but by solving this you will hopefully develop strategies that can be used going forward."
   ]
  },
  {
   "cell_type": "code",
   "execution_count": 13,
   "metadata": {},
   "outputs": [
    {
     "data": {
      "text/html": [
       "<div>\n",
       "<style scoped>\n",
       "    .dataframe tbody tr th:only-of-type {\n",
       "        vertical-align: middle;\n",
       "    }\n",
       "\n",
       "    .dataframe tbody tr th {\n",
       "        vertical-align: top;\n",
       "    }\n",
       "\n",
       "    .dataframe thead th {\n",
       "        text-align: right;\n",
       "    }\n",
       "</style>\n",
       "<table border=\"1\" class=\"dataframe\">\n",
       "  <thead>\n",
       "    <tr style=\"text-align: right;\">\n",
       "      <th></th>\n",
       "      <th>date</th>\n",
       "      <th>A0_Latitude</th>\n",
       "      <th>A0_Longitude</th>\n",
       "      <th>A1_Latitude</th>\n",
       "      <th>A1_Longitude</th>\n",
       "      <th>A2_Latitude</th>\n",
       "      <th>A2_Longitude</th>\n",
       "      <th>A3_Latitude</th>\n",
       "      <th>A3_Longitude</th>\n",
       "      <th>A4_Latitude</th>\n",
       "      <th>A4_Longitude</th>\n",
       "      <th>A5_Latitude</th>\n",
       "      <th>A5_Longitude</th>\n",
       "    </tr>\n",
       "  </thead>\n",
       "  <tbody>\n",
       "    <tr>\n",
       "      <td>0</td>\n",
       "      <td>2019-07-01 00:00:00</td>\n",
       "      <td>0</td>\n",
       "      <td>0</td>\n",
       "      <td>0</td>\n",
       "      <td>0</td>\n",
       "      <td>0</td>\n",
       "      <td>0</td>\n",
       "      <td>0</td>\n",
       "      <td>0</td>\n",
       "      <td>0</td>\n",
       "      <td>0</td>\n",
       "      <td>0</td>\n",
       "      <td>0</td>\n",
       "    </tr>\n",
       "    <tr>\n",
       "      <td>1</td>\n",
       "      <td>2019-07-01 03:00:00</td>\n",
       "      <td>0</td>\n",
       "      <td>0</td>\n",
       "      <td>0</td>\n",
       "      <td>0</td>\n",
       "      <td>0</td>\n",
       "      <td>0</td>\n",
       "      <td>0</td>\n",
       "      <td>0</td>\n",
       "      <td>0</td>\n",
       "      <td>0</td>\n",
       "      <td>0</td>\n",
       "      <td>0</td>\n",
       "    </tr>\n",
       "    <tr>\n",
       "      <td>2</td>\n",
       "      <td>2019-07-01 06:00:00</td>\n",
       "      <td>0</td>\n",
       "      <td>0</td>\n",
       "      <td>0</td>\n",
       "      <td>0</td>\n",
       "      <td>0</td>\n",
       "      <td>0</td>\n",
       "      <td>0</td>\n",
       "      <td>0</td>\n",
       "      <td>0</td>\n",
       "      <td>0</td>\n",
       "      <td>0</td>\n",
       "      <td>0</td>\n",
       "    </tr>\n",
       "    <tr>\n",
       "      <td>3</td>\n",
       "      <td>2019-07-01 09:00:00</td>\n",
       "      <td>0</td>\n",
       "      <td>0</td>\n",
       "      <td>0</td>\n",
       "      <td>0</td>\n",
       "      <td>0</td>\n",
       "      <td>0</td>\n",
       "      <td>0</td>\n",
       "      <td>0</td>\n",
       "      <td>0</td>\n",
       "      <td>0</td>\n",
       "      <td>0</td>\n",
       "      <td>0</td>\n",
       "    </tr>\n",
       "    <tr>\n",
       "      <td>4</td>\n",
       "      <td>2019-07-01 12:00:00</td>\n",
       "      <td>0</td>\n",
       "      <td>0</td>\n",
       "      <td>0</td>\n",
       "      <td>0</td>\n",
       "      <td>0</td>\n",
       "      <td>0</td>\n",
       "      <td>0</td>\n",
       "      <td>0</td>\n",
       "      <td>0</td>\n",
       "      <td>0</td>\n",
       "      <td>0</td>\n",
       "      <td>0</td>\n",
       "    </tr>\n",
       "  </tbody>\n",
       "</table>\n",
       "</div>"
      ],
      "text/plain": [
       "                 date  A0_Latitude  A0_Longitude  A1_Latitude  A1_Longitude  \\\n",
       "0 2019-07-01 00:00:00            0             0            0             0   \n",
       "1 2019-07-01 03:00:00            0             0            0             0   \n",
       "2 2019-07-01 06:00:00            0             0            0             0   \n",
       "3 2019-07-01 09:00:00            0             0            0             0   \n",
       "4 2019-07-01 12:00:00            0             0            0             0   \n",
       "\n",
       "   A2_Latitude  A2_Longitude  A3_Latitude  A3_Longitude  A4_Latitude  \\\n",
       "0            0             0            0             0            0   \n",
       "1            0             0            0             0            0   \n",
       "2            0             0            0             0            0   \n",
       "3            0             0            0             0            0   \n",
       "4            0             0            0             0            0   \n",
       "\n",
       "   A4_Longitude  A5_Latitude  A5_Longitude  \n",
       "0             0            0             0  \n",
       "1             0            0             0  \n",
       "2             0            0             0  \n",
       "3             0            0             0  \n",
       "4             0            0             0  "
      ]
     },
     "execution_count": 13,
     "metadata": {},
     "output_type": "execute_result"
    }
   ],
   "source": [
    "# View the submission format\n",
    "ss = pd.read_csv('Data/SampleSubmission.csv', parse_dates=['date'])\n",
    "ss.head()"
   ]
  },
  {
   "cell_type": "markdown",
   "metadata": {},
   "source": [
    "# Scoring\n",
    "\n",
    "You can re-create the scoring process by creating your own test set and using the following function:"
   ]
  },
  {
   "cell_type": "code",
   "execution_count": 14,
   "metadata": {},
   "outputs": [],
   "source": [
    "def score(sub, ref):\n",
    "    total_distance = 0\n",
    "    for date, c_lat, c_lon in ref[['datetime', 'latitude', 'longitude']].values:\n",
    "        row = sub.loc[sub.date < date].tail(1) # Prior to Oct 2 this was incorrectly .head(1)\n",
    "        dists = []\n",
    "        for a in range(6):\n",
    "            dist = ((c_lat - row[f'A{a}_Latitude'].values[0])**2+(c_lon - row[f'A{a}_Longitude'].values[0])**2)**0.5 \n",
    "            dists.append(dist)\n",
    "        total_distance += min(dists)\n",
    "    return total_distance\n"
   ]
  },
  {
   "cell_type": "code",
   "execution_count": 15,
   "metadata": {},
   "outputs": [
    {
     "data": {
      "text/plain": [
       "70886.38526378157"
      ]
     },
     "execution_count": 15,
     "metadata": {},
     "output_type": "execute_result"
    }
   ],
   "source": [
    "# Example:\n",
    "\n",
    "# Test set\n",
    "reference = df.loc[df.datetime > '2019-01-01'] # Using 2019 as our test set\n",
    "\n",
    "# Date rane covering test set\n",
    "dates = pd.date_range('2019-01-01', '2020-01-01', freq='3h')\n",
    "\n",
    "# Create submission dataframe\n",
    "sub = pd.DataFrame({\n",
    "    'date':dates\n",
    "})\n",
    "for ambulance in range(6):\n",
    "    sub['A'+str(ambulance)+'_Latitude'] = 0\n",
    "    sub['A'+str(ambulance)+'_Longitude'] = 0\n",
    "\n",
    "# Place an ambulance in the center of the city:\n",
    "sub['A'+str(ambulance)+'_Latitude'] = 36.82\n",
    "sub['A'+str(ambulance)+'_Longitude'] = -1.3\n",
    "\n",
    "\n",
    "\n",
    "score(sub, reference)"
   ]
  },
  {
   "cell_type": "markdown",
   "metadata": {},
   "source": [
    "This scoring function can be used for local testing without needing to submit on Zindi. Lower is better. Experiment with specifying set locations for all 6 ambulances, and see how low you can get your score."
   ]
  },
  {
   "cell_type": "markdown",
   "metadata": {},
   "source": [
    "# Weather Data\n",
    "\n",
    "Some weatehr variables form the GFS dataset are provided, covering the greater Nairobi area. Let's take a quick look at the dataset before moving on:"
   ]
  },
  {
   "cell_type": "code",
   "execution_count": 34,
   "metadata": {
    "scrolled": true
   },
   "outputs": [
    {
     "data": {
      "text/html": [
       "<div>\n",
       "<style scoped>\n",
       "    .dataframe tbody tr th:only-of-type {\n",
       "        vertical-align: middle;\n",
       "    }\n",
       "\n",
       "    .dataframe tbody tr th {\n",
       "        vertical-align: top;\n",
       "    }\n",
       "\n",
       "    .dataframe thead th {\n",
       "        text-align: right;\n",
       "    }\n",
       "</style>\n",
       "<table border=\"1\" class=\"dataframe\">\n",
       "  <thead>\n",
       "    <tr style=\"text-align: right;\">\n",
       "      <th></th>\n",
       "      <th>Date</th>\n",
       "      <th>precipitable_water_entire_atmosphere</th>\n",
       "      <th>relative_humidity_2m_above_ground</th>\n",
       "      <th>specific_humidity_2m_above_ground</th>\n",
       "      <th>temperature_2m_above_ground</th>\n",
       "      <th>u_component_of_wind_10m_above_ground</th>\n",
       "      <th>v_component_of_wind_10m_above_ground</th>\n",
       "    </tr>\n",
       "  </thead>\n",
       "  <tbody>\n",
       "    <tr>\n",
       "      <td>0</td>\n",
       "      <td>2018-01-01</td>\n",
       "      <td>24.100000</td>\n",
       "      <td>72.700005</td>\n",
       "      <td>0.009560</td>\n",
       "      <td>15.161493</td>\n",
       "      <td>-0.012186</td>\n",
       "      <td>-0.933914</td>\n",
       "    </tr>\n",
       "    <tr>\n",
       "      <td>1</td>\n",
       "      <td>2018-01-02</td>\n",
       "      <td>27.362288</td>\n",
       "      <td>74.900002</td>\n",
       "      <td>0.010463</td>\n",
       "      <td>16.047998</td>\n",
       "      <td>0.314543</td>\n",
       "      <td>-0.485459</td>\n",
       "    </tr>\n",
       "    <tr>\n",
       "      <td>2</td>\n",
       "      <td>2018-01-03</td>\n",
       "      <td>30.246618</td>\n",
       "      <td>86.599998</td>\n",
       "      <td>0.011930</td>\n",
       "      <td>15.838525</td>\n",
       "      <td>-0.282732</td>\n",
       "      <td>-0.653965</td>\n",
       "    </tr>\n",
       "    <tr>\n",
       "      <td>3</td>\n",
       "      <td>2018-01-04</td>\n",
       "      <td>33.010689</td>\n",
       "      <td>90.900002</td>\n",
       "      <td>0.012780</td>\n",
       "      <td>16.169244</td>\n",
       "      <td>0.211572</td>\n",
       "      <td>0.908123</td>\n",
       "    </tr>\n",
       "    <tr>\n",
       "      <td>4</td>\n",
       "      <td>2018-01-05</td>\n",
       "      <td>27.250372</td>\n",
       "      <td>82.413353</td>\n",
       "      <td>0.011392</td>\n",
       "      <td>15.923456</td>\n",
       "      <td>1.047275</td>\n",
       "      <td>-0.037742</td>\n",
       "    </tr>\n",
       "  </tbody>\n",
       "</table>\n",
       "</div>"
      ],
      "text/plain": [
       "        Date  precipitable_water_entire_atmosphere  \\\n",
       "0 2018-01-01                             24.100000   \n",
       "1 2018-01-02                             27.362288   \n",
       "2 2018-01-03                             30.246618   \n",
       "3 2018-01-04                             33.010689   \n",
       "4 2018-01-05                             27.250372   \n",
       "\n",
       "   relative_humidity_2m_above_ground  specific_humidity_2m_above_ground  \\\n",
       "0                          72.700005                           0.009560   \n",
       "1                          74.900002                           0.010463   \n",
       "2                          86.599998                           0.011930   \n",
       "3                          90.900002                           0.012780   \n",
       "4                          82.413353                           0.011392   \n",
       "\n",
       "   temperature_2m_above_ground  u_component_of_wind_10m_above_ground  \\\n",
       "0                    15.161493                             -0.012186   \n",
       "1                    16.047998                              0.314543   \n",
       "2                    15.838525                             -0.282732   \n",
       "3                    16.169244                              0.211572   \n",
       "4                    15.923456                              1.047275   \n",
       "\n",
       "   v_component_of_wind_10m_above_ground  \n",
       "0                             -0.933914  \n",
       "1                             -0.485459  \n",
       "2                             -0.653965  \n",
       "3                              0.908123  \n",
       "4                             -0.037742  "
      ]
     },
     "execution_count": 34,
     "metadata": {},
     "output_type": "execute_result"
    }
   ],
   "source": [
    "weather = pd.read_csv('Data/Weather_Nairobi_Daily_GFS.csv', parse_dates=['Date'])\n",
    "weather['Date'] = pd.to_datetime(weather['Date'].dt.date)\n",
    "weather.head()"
   ]
  },
  {
   "cell_type": "code",
   "execution_count": 47,
   "metadata": {
    "scrolled": true
   },
   "outputs": [
    {
     "name": "stderr",
     "output_type": "stream",
     "text": [
      "/Users/dmitrii/opt/anaconda3/lib/python3.7/site-packages/ipykernel_launcher.py:2: UserWarning: Boolean Series key will be reindexed to match DataFrame index.\n",
      "  \n"
     ]
    },
    {
     "data": {
      "text/html": [
       "<div>\n",
       "<style scoped>\n",
       "    .dataframe tbody tr th:only-of-type {\n",
       "        vertical-align: middle;\n",
       "    }\n",
       "\n",
       "    .dataframe tbody tr th {\n",
       "        vertical-align: top;\n",
       "    }\n",
       "\n",
       "    .dataframe thead th {\n",
       "        text-align: right;\n",
       "    }\n",
       "</style>\n",
       "<table border=\"1\" class=\"dataframe\">\n",
       "  <thead>\n",
       "    <tr style=\"text-align: right;\">\n",
       "      <th></th>\n",
       "      <th>Date</th>\n",
       "      <th>precipitable_water_entire_atmosphere</th>\n",
       "      <th>relative_humidity_2m_above_ground</th>\n",
       "      <th>specific_humidity_2m_above_ground</th>\n",
       "      <th>temperature_2m_above_ground</th>\n",
       "      <th>u_component_of_wind_10m_above_ground</th>\n",
       "      <th>v_component_of_wind_10m_above_ground</th>\n",
       "    </tr>\n",
       "  </thead>\n",
       "  <tbody>\n",
       "    <tr>\n",
       "      <td>0</td>\n",
       "      <td>2018-01-01</td>\n",
       "      <td>24.100000</td>\n",
       "      <td>72.700005</td>\n",
       "      <td>0.009560</td>\n",
       "      <td>15.161493</td>\n",
       "      <td>-0.012186</td>\n",
       "      <td>-0.933914</td>\n",
       "    </tr>\n",
       "    <tr>\n",
       "      <td>1</td>\n",
       "      <td>2018-01-02</td>\n",
       "      <td>27.362288</td>\n",
       "      <td>74.900002</td>\n",
       "      <td>0.010463</td>\n",
       "      <td>16.047998</td>\n",
       "      <td>0.314543</td>\n",
       "      <td>-0.485459</td>\n",
       "    </tr>\n",
       "    <tr>\n",
       "      <td>2</td>\n",
       "      <td>2018-01-03</td>\n",
       "      <td>30.246618</td>\n",
       "      <td>86.599998</td>\n",
       "      <td>0.011930</td>\n",
       "      <td>15.838525</td>\n",
       "      <td>-0.282732</td>\n",
       "      <td>-0.653965</td>\n",
       "    </tr>\n",
       "    <tr>\n",
       "      <td>3</td>\n",
       "      <td>2018-01-04</td>\n",
       "      <td>33.010689</td>\n",
       "      <td>90.900002</td>\n",
       "      <td>0.012780</td>\n",
       "      <td>16.169244</td>\n",
       "      <td>0.211572</td>\n",
       "      <td>0.908123</td>\n",
       "    </tr>\n",
       "    <tr>\n",
       "      <td>4</td>\n",
       "      <td>2018-01-05</td>\n",
       "      <td>27.250372</td>\n",
       "      <td>82.413353</td>\n",
       "      <td>0.011392</td>\n",
       "      <td>15.923456</td>\n",
       "      <td>1.047275</td>\n",
       "      <td>-0.037742</td>\n",
       "    </tr>\n",
       "    <tr>\n",
       "      <td>5</td>\n",
       "      <td>2018-01-06</td>\n",
       "      <td>24.300001</td>\n",
       "      <td>81.300003</td>\n",
       "      <td>0.010660</td>\n",
       "      <td>15.124994</td>\n",
       "      <td>-0.367690</td>\n",
       "      <td>-1.720410</td>\n",
       "    </tr>\n",
       "    <tr>\n",
       "      <td>6</td>\n",
       "      <td>2018-01-07</td>\n",
       "      <td>23.800001</td>\n",
       "      <td>74.735054</td>\n",
       "      <td>0.009575</td>\n",
       "      <td>14.816248</td>\n",
       "      <td>0.544004</td>\n",
       "      <td>-0.813267</td>\n",
       "    </tr>\n",
       "    <tr>\n",
       "      <td>7</td>\n",
       "      <td>2018-01-08</td>\n",
       "      <td>20.600630</td>\n",
       "      <td>64.900002</td>\n",
       "      <td>0.008180</td>\n",
       "      <td>14.496667</td>\n",
       "      <td>-0.003816</td>\n",
       "      <td>-1.861772</td>\n",
       "    </tr>\n",
       "    <tr>\n",
       "      <td>8</td>\n",
       "      <td>2018-01-09</td>\n",
       "      <td>21.786987</td>\n",
       "      <td>72.597282</td>\n",
       "      <td>0.009781</td>\n",
       "      <td>15.587091</td>\n",
       "      <td>-0.600393</td>\n",
       "      <td>-0.693701</td>\n",
       "    </tr>\n",
       "    <tr>\n",
       "      <td>9</td>\n",
       "      <td>2018-01-10</td>\n",
       "      <td>22.000000</td>\n",
       "      <td>68.073692</td>\n",
       "      <td>0.008876</td>\n",
       "      <td>15.062982</td>\n",
       "      <td>-0.884207</td>\n",
       "      <td>-1.480972</td>\n",
       "    </tr>\n",
       "    <tr>\n",
       "      <td>10</td>\n",
       "      <td>2018-01-11</td>\n",
       "      <td>27.700001</td>\n",
       "      <td>83.375984</td>\n",
       "      <td>0.011370</td>\n",
       "      <td>15.711389</td>\n",
       "      <td>-1.524686</td>\n",
       "      <td>-0.749463</td>\n",
       "    </tr>\n",
       "    <tr>\n",
       "      <td>11</td>\n",
       "      <td>2018-01-12</td>\n",
       "      <td>24.600000</td>\n",
       "      <td>72.300003</td>\n",
       "      <td>0.008960</td>\n",
       "      <td>14.288538</td>\n",
       "      <td>-0.075125</td>\n",
       "      <td>-0.900454</td>\n",
       "    </tr>\n",
       "    <tr>\n",
       "      <td>12</td>\n",
       "      <td>2018-01-13</td>\n",
       "      <td>23.413946</td>\n",
       "      <td>76.900002</td>\n",
       "      <td>0.009370</td>\n",
       "      <td>13.981531</td>\n",
       "      <td>-2.300967</td>\n",
       "      <td>-1.773784</td>\n",
       "    </tr>\n",
       "  </tbody>\n",
       "</table>\n",
       "</div>"
      ],
      "text/plain": [
       "         Date  precipitable_water_entire_atmosphere  \\\n",
       "0  2018-01-01                             24.100000   \n",
       "1  2018-01-02                             27.362288   \n",
       "2  2018-01-03                             30.246618   \n",
       "3  2018-01-04                             33.010689   \n",
       "4  2018-01-05                             27.250372   \n",
       "5  2018-01-06                             24.300001   \n",
       "6  2018-01-07                             23.800001   \n",
       "7  2018-01-08                             20.600630   \n",
       "8  2018-01-09                             21.786987   \n",
       "9  2018-01-10                             22.000000   \n",
       "10 2018-01-11                             27.700001   \n",
       "11 2018-01-12                             24.600000   \n",
       "12 2018-01-13                             23.413946   \n",
       "\n",
       "    relative_humidity_2m_above_ground  specific_humidity_2m_above_ground  \\\n",
       "0                           72.700005                           0.009560   \n",
       "1                           74.900002                           0.010463   \n",
       "2                           86.599998                           0.011930   \n",
       "3                           90.900002                           0.012780   \n",
       "4                           82.413353                           0.011392   \n",
       "5                           81.300003                           0.010660   \n",
       "6                           74.735054                           0.009575   \n",
       "7                           64.900002                           0.008180   \n",
       "8                           72.597282                           0.009781   \n",
       "9                           68.073692                           0.008876   \n",
       "10                          83.375984                           0.011370   \n",
       "11                          72.300003                           0.008960   \n",
       "12                          76.900002                           0.009370   \n",
       "\n",
       "    temperature_2m_above_ground  u_component_of_wind_10m_above_ground  \\\n",
       "0                     15.161493                             -0.012186   \n",
       "1                     16.047998                              0.314543   \n",
       "2                     15.838525                             -0.282732   \n",
       "3                     16.169244                              0.211572   \n",
       "4                     15.923456                              1.047275   \n",
       "5                     15.124994                             -0.367690   \n",
       "6                     14.816248                              0.544004   \n",
       "7                     14.496667                             -0.003816   \n",
       "8                     15.587091                             -0.600393   \n",
       "9                     15.062982                             -0.884207   \n",
       "10                    15.711389                             -1.524686   \n",
       "11                    14.288538                             -0.075125   \n",
       "12                    13.981531                             -2.300967   \n",
       "\n",
       "    v_component_of_wind_10m_above_ground  \n",
       "0                              -0.933914  \n",
       "1                              -0.485459  \n",
       "2                              -0.653965  \n",
       "3                               0.908123  \n",
       "4                              -0.037742  \n",
       "5                              -1.720410  \n",
       "6                              -0.813267  \n",
       "7                              -1.861772  \n",
       "8                              -0.693701  \n",
       "9                              -1.480972  \n",
       "10                             -0.749463  \n",
       "11                             -0.900454  \n",
       "12                             -1.773784  "
      ]
     },
     "execution_count": 47,
     "metadata": {},
     "output_type": "execute_result"
    }
   ],
   "source": [
    "#data with weather\n",
    "weather[weather.Date[0]==df.Date]\n"
   ]
  },
  {
   "cell_type": "code",
   "execution_count": 48,
   "metadata": {},
   "outputs": [
    {
     "data": {
      "text/plain": [
       "(6318, 6)"
      ]
     },
     "execution_count": 48,
     "metadata": {},
     "output_type": "execute_result"
    }
   ],
   "source": [
    "df.shape"
   ]
  },
  {
   "cell_type": "code",
   "execution_count": 49,
   "metadata": {},
   "outputs": [
    {
     "data": {
      "text/plain": [
       "(731, 7)"
      ]
     },
     "execution_count": 49,
     "metadata": {},
     "output_type": "execute_result"
    }
   ],
   "source": [
    "weather.shape"
   ]
  },
  {
   "cell_type": "code",
   "execution_count": 59,
   "metadata": {},
   "outputs": [],
   "source": [
    "X = pd.merge(df,weather, on = 'Date')"
   ]
  },
  {
   "cell_type": "code",
   "execution_count": 84,
   "metadata": {},
   "outputs": [
    {
     "data": {
      "text/html": [
       "<div>\n",
       "<style scoped>\n",
       "    .dataframe tbody tr th:only-of-type {\n",
       "        vertical-align: middle;\n",
       "    }\n",
       "\n",
       "    .dataframe tbody tr th {\n",
       "        vertical-align: top;\n",
       "    }\n",
       "\n",
       "    .dataframe thead th {\n",
       "        text-align: right;\n",
       "    }\n",
       "</style>\n",
       "<table border=\"1\" class=\"dataframe\">\n",
       "  <thead>\n",
       "    <tr style=\"text-align: right;\">\n",
       "      <th></th>\n",
       "      <th>uid</th>\n",
       "      <th>datetime</th>\n",
       "      <th>latitude</th>\n",
       "      <th>longitude</th>\n",
       "      <th>Date</th>\n",
       "      <th>precipitable_water_entire_atmosphere</th>\n",
       "      <th>relative_humidity_2m_above_ground</th>\n",
       "      <th>specific_humidity_2m_above_ground</th>\n",
       "      <th>temperature_2m_above_ground</th>\n",
       "      <th>u_component_of_wind_10m_above_ground</th>\n",
       "      <th>v_component_of_wind_10m_above_ground</th>\n",
       "      <th>ddif</th>\n",
       "    </tr>\n",
       "  </thead>\n",
       "  <tbody>\n",
       "    <tr>\n",
       "      <td>0</td>\n",
       "      <td>1</td>\n",
       "      <td>2018-01-01 00:25:46</td>\n",
       "      <td>-1.188850</td>\n",
       "      <td>36.931382</td>\n",
       "      <td>2018-01-01</td>\n",
       "      <td>24.1</td>\n",
       "      <td>72.700005</td>\n",
       "      <td>0.00956</td>\n",
       "      <td>15.161493</td>\n",
       "      <td>-0.012186</td>\n",
       "      <td>-0.933914</td>\n",
       "      <td>2018-01-01</td>\n",
       "    </tr>\n",
       "    <tr>\n",
       "      <td>1</td>\n",
       "      <td>2</td>\n",
       "      <td>2018-01-01 02:02:39</td>\n",
       "      <td>-0.662939</td>\n",
       "      <td>37.208730</td>\n",
       "      <td>2018-01-01</td>\n",
       "      <td>24.1</td>\n",
       "      <td>72.700005</td>\n",
       "      <td>0.00956</td>\n",
       "      <td>15.161493</td>\n",
       "      <td>-0.012186</td>\n",
       "      <td>-0.933914</td>\n",
       "      <td>2018-01-01</td>\n",
       "    </tr>\n",
       "  </tbody>\n",
       "</table>\n",
       "</div>"
      ],
      "text/plain": [
       "   uid            datetime  latitude  longitude       Date  \\\n",
       "0    1 2018-01-01 00:25:46 -1.188850  36.931382 2018-01-01   \n",
       "1    2 2018-01-01 02:02:39 -0.662939  37.208730 2018-01-01   \n",
       "\n",
       "   precipitable_water_entire_atmosphere  relative_humidity_2m_above_ground  \\\n",
       "0                                  24.1                          72.700005   \n",
       "1                                  24.1                          72.700005   \n",
       "\n",
       "   specific_humidity_2m_above_ground  temperature_2m_above_ground  \\\n",
       "0                            0.00956                    15.161493   \n",
       "1                            0.00956                    15.161493   \n",
       "\n",
       "   u_component_of_wind_10m_above_ground  v_component_of_wind_10m_above_ground  \\\n",
       "0                             -0.012186                             -0.933914   \n",
       "1                             -0.012186                             -0.933914   \n",
       "\n",
       "        ddif  \n",
       "0 2018-01-01  \n",
       "1 2018-01-01  "
      ]
     },
     "execution_count": 84,
     "metadata": {},
     "output_type": "execute_result"
    }
   ],
   "source": [
    "X.head(2)"
   ]
  },
  {
   "cell_type": "code",
   "execution_count": 61,
   "metadata": {},
   "outputs": [],
   "source": [
    "X.drop('just_date', axis = 1, inplace = True)"
   ]
  },
  {
   "cell_type": "code",
   "execution_count": 85,
   "metadata": {},
   "outputs": [],
   "source": [
    "X['ddif'] = X['datetime']"
   ]
  },
  {
   "cell_type": "code",
   "execution_count": 87,
   "metadata": {},
   "outputs": [
    {
     "data": {
      "text/plain": [
       "uid                                              int64\n",
       "datetime                                datetime64[ns]\n",
       "latitude                                       float64\n",
       "longitude                                      float64\n",
       "Date                                    datetime64[ns]\n",
       "precipitable_water_entire_atmosphere           float64\n",
       "relative_humidity_2m_above_ground              float64\n",
       "specific_humidity_2m_above_ground              float64\n",
       "temperature_2m_above_ground                    float64\n",
       "u_component_of_wind_10m_above_ground           float64\n",
       "v_component_of_wind_10m_above_ground           float64\n",
       "ddif                                    datetime64[ns]\n",
       "dtype: object"
      ]
     },
     "execution_count": 87,
     "metadata": {},
     "output_type": "execute_result"
    }
   ],
   "source": [
    "X.dtypes"
   ]
  },
  {
   "cell_type": "code",
   "execution_count": 88,
   "metadata": {
    "scrolled": true
   },
   "outputs": [
    {
     "name": "stderr",
     "output_type": "stream",
     "text": [
      "/Users/dmitrii/opt/anaconda3/lib/python3.7/site-packages/ipykernel_launcher.py:3: SettingWithCopyWarning: \n",
      "A value is trying to be set on a copy of a slice from a DataFrame\n",
      "\n",
      "See the caveats in the documentation: http://pandas.pydata.org/pandas-docs/stable/user_guide/indexing.html#returning-a-view-versus-a-copy\n",
      "  This is separate from the ipykernel package so we can avoid doing imports until\n"
     ]
    }
   ],
   "source": [
    "for i in range(1, df.shape[0]):\n",
    "    #(pd.to_datetime(df[\"deadline\"])-df[\"date\"]).dt.days\n",
    "    X['ddif'][i] = (X['datetime'][i]-X['datetime'][i-1])"
   ]
  },
  {
   "cell_type": "code",
   "execution_count": 91,
   "metadata": {},
   "outputs": [
    {
     "data": {
      "text/html": [
       "<div>\n",
       "<style scoped>\n",
       "    .dataframe tbody tr th:only-of-type {\n",
       "        vertical-align: middle;\n",
       "    }\n",
       "\n",
       "    .dataframe tbody tr th {\n",
       "        vertical-align: top;\n",
       "    }\n",
       "\n",
       "    .dataframe thead th {\n",
       "        text-align: right;\n",
       "    }\n",
       "</style>\n",
       "<table border=\"1\" class=\"dataframe\">\n",
       "  <thead>\n",
       "    <tr style=\"text-align: right;\">\n",
       "      <th></th>\n",
       "      <th>uid</th>\n",
       "      <th>datetime</th>\n",
       "      <th>latitude</th>\n",
       "      <th>longitude</th>\n",
       "      <th>Date</th>\n",
       "      <th>precipitable_water_entire_atmosphere</th>\n",
       "      <th>relative_humidity_2m_above_ground</th>\n",
       "      <th>specific_humidity_2m_above_ground</th>\n",
       "      <th>temperature_2m_above_ground</th>\n",
       "      <th>u_component_of_wind_10m_above_ground</th>\n",
       "      <th>v_component_of_wind_10m_above_ground</th>\n",
       "      <th>ddif</th>\n",
       "    </tr>\n",
       "  </thead>\n",
       "  <tbody>\n",
       "    <tr>\n",
       "      <td>0</td>\n",
       "      <td>1</td>\n",
       "      <td>2018-01-01 00:25:46</td>\n",
       "      <td>-1.188850</td>\n",
       "      <td>36.931382</td>\n",
       "      <td>2018-01-01</td>\n",
       "      <td>24.1</td>\n",
       "      <td>72.700005</td>\n",
       "      <td>0.00956</td>\n",
       "      <td>15.161493</td>\n",
       "      <td>-0.012186</td>\n",
       "      <td>-0.933914</td>\n",
       "      <td>2018-01-01 00:25:46</td>\n",
       "    </tr>\n",
       "    <tr>\n",
       "      <td>1</td>\n",
       "      <td>2</td>\n",
       "      <td>2018-01-01 02:02:39</td>\n",
       "      <td>-0.662939</td>\n",
       "      <td>37.208730</td>\n",
       "      <td>2018-01-01</td>\n",
       "      <td>24.1</td>\n",
       "      <td>72.700005</td>\n",
       "      <td>0.00956</td>\n",
       "      <td>15.161493</td>\n",
       "      <td>-0.012186</td>\n",
       "      <td>-0.933914</td>\n",
       "      <td>0 days 01:36:53</td>\n",
       "    </tr>\n",
       "    <tr>\n",
       "      <td>2</td>\n",
       "      <td>3</td>\n",
       "      <td>2018-01-01 02:31:49</td>\n",
       "      <td>-0.662939</td>\n",
       "      <td>37.208730</td>\n",
       "      <td>2018-01-01</td>\n",
       "      <td>24.1</td>\n",
       "      <td>72.700005</td>\n",
       "      <td>0.00956</td>\n",
       "      <td>15.161493</td>\n",
       "      <td>-0.012186</td>\n",
       "      <td>-0.933914</td>\n",
       "      <td>0 days 00:29:10</td>\n",
       "    </tr>\n",
       "    <tr>\n",
       "      <td>3</td>\n",
       "      <td>4</td>\n",
       "      <td>2018-01-01 03:04:01</td>\n",
       "      <td>-1.288087</td>\n",
       "      <td>36.826583</td>\n",
       "      <td>2018-01-01</td>\n",
       "      <td>24.1</td>\n",
       "      <td>72.700005</td>\n",
       "      <td>0.00956</td>\n",
       "      <td>15.161493</td>\n",
       "      <td>-0.012186</td>\n",
       "      <td>-0.933914</td>\n",
       "      <td>0 days 00:32:12</td>\n",
       "    </tr>\n",
       "    <tr>\n",
       "      <td>4</td>\n",
       "      <td>5</td>\n",
       "      <td>2018-01-01 03:58:49</td>\n",
       "      <td>-1.188850</td>\n",
       "      <td>36.931382</td>\n",
       "      <td>2018-01-01</td>\n",
       "      <td>24.1</td>\n",
       "      <td>72.700005</td>\n",
       "      <td>0.00956</td>\n",
       "      <td>15.161493</td>\n",
       "      <td>-0.012186</td>\n",
       "      <td>-0.933914</td>\n",
       "      <td>0 days 00:54:48</td>\n",
       "    </tr>\n",
       "    <tr>\n",
       "      <td>5</td>\n",
       "      <td>6</td>\n",
       "      <td>2018-01-01 04:04:09</td>\n",
       "      <td>-0.662939</td>\n",
       "      <td>37.208730</td>\n",
       "      <td>2018-01-01</td>\n",
       "      <td>24.1</td>\n",
       "      <td>72.700005</td>\n",
       "      <td>0.00956</td>\n",
       "      <td>15.161493</td>\n",
       "      <td>-0.012186</td>\n",
       "      <td>-0.933914</td>\n",
       "      <td>0 days 00:05:20</td>\n",
       "    </tr>\n",
       "    <tr>\n",
       "      <td>6</td>\n",
       "      <td>7</td>\n",
       "      <td>2018-01-01 05:31:17</td>\n",
       "      <td>-1.165228</td>\n",
       "      <td>36.960008</td>\n",
       "      <td>2018-01-01</td>\n",
       "      <td>24.1</td>\n",
       "      <td>72.700005</td>\n",
       "      <td>0.00956</td>\n",
       "      <td>15.161493</td>\n",
       "      <td>-0.012186</td>\n",
       "      <td>-0.933914</td>\n",
       "      <td>0 days 01:27:08</td>\n",
       "    </tr>\n",
       "    <tr>\n",
       "      <td>7</td>\n",
       "      <td>8</td>\n",
       "      <td>2018-01-01 07:57:56</td>\n",
       "      <td>-1.301303</td>\n",
       "      <td>36.820903</td>\n",
       "      <td>2018-01-01</td>\n",
       "      <td>24.1</td>\n",
       "      <td>72.700005</td>\n",
       "      <td>0.00956</td>\n",
       "      <td>15.161493</td>\n",
       "      <td>-0.012186</td>\n",
       "      <td>-0.933914</td>\n",
       "      <td>0 days 02:26:39</td>\n",
       "    </tr>\n",
       "    <tr>\n",
       "      <td>8</td>\n",
       "      <td>9</td>\n",
       "      <td>2018-01-01 09:57:27</td>\n",
       "      <td>-1.134640</td>\n",
       "      <td>36.848220</td>\n",
       "      <td>2018-01-01</td>\n",
       "      <td>24.1</td>\n",
       "      <td>72.700005</td>\n",
       "      <td>0.00956</td>\n",
       "      <td>15.161493</td>\n",
       "      <td>-0.012186</td>\n",
       "      <td>-0.933914</td>\n",
       "      <td>0 days 01:59:31</td>\n",
       "    </tr>\n",
       "    <tr>\n",
       "      <td>9</td>\n",
       "      <td>10</td>\n",
       "      <td>2018-01-01 10:48:59</td>\n",
       "      <td>-1.117207</td>\n",
       "      <td>37.008278</td>\n",
       "      <td>2018-01-01</td>\n",
       "      <td>24.1</td>\n",
       "      <td>72.700005</td>\n",
       "      <td>0.00956</td>\n",
       "      <td>15.161493</td>\n",
       "      <td>-0.012186</td>\n",
       "      <td>-0.933914</td>\n",
       "      <td>0 days 00:51:32</td>\n",
       "    </tr>\n",
       "  </tbody>\n",
       "</table>\n",
       "</div>"
      ],
      "text/plain": [
       "   uid            datetime  latitude  longitude       Date  \\\n",
       "0    1 2018-01-01 00:25:46 -1.188850  36.931382 2018-01-01   \n",
       "1    2 2018-01-01 02:02:39 -0.662939  37.208730 2018-01-01   \n",
       "2    3 2018-01-01 02:31:49 -0.662939  37.208730 2018-01-01   \n",
       "3    4 2018-01-01 03:04:01 -1.288087  36.826583 2018-01-01   \n",
       "4    5 2018-01-01 03:58:49 -1.188850  36.931382 2018-01-01   \n",
       "5    6 2018-01-01 04:04:09 -0.662939  37.208730 2018-01-01   \n",
       "6    7 2018-01-01 05:31:17 -1.165228  36.960008 2018-01-01   \n",
       "7    8 2018-01-01 07:57:56 -1.301303  36.820903 2018-01-01   \n",
       "8    9 2018-01-01 09:57:27 -1.134640  36.848220 2018-01-01   \n",
       "9   10 2018-01-01 10:48:59 -1.117207  37.008278 2018-01-01   \n",
       "\n",
       "   precipitable_water_entire_atmosphere  relative_humidity_2m_above_ground  \\\n",
       "0                                  24.1                          72.700005   \n",
       "1                                  24.1                          72.700005   \n",
       "2                                  24.1                          72.700005   \n",
       "3                                  24.1                          72.700005   \n",
       "4                                  24.1                          72.700005   \n",
       "5                                  24.1                          72.700005   \n",
       "6                                  24.1                          72.700005   \n",
       "7                                  24.1                          72.700005   \n",
       "8                                  24.1                          72.700005   \n",
       "9                                  24.1                          72.700005   \n",
       "\n",
       "   specific_humidity_2m_above_ground  temperature_2m_above_ground  \\\n",
       "0                            0.00956                    15.161493   \n",
       "1                            0.00956                    15.161493   \n",
       "2                            0.00956                    15.161493   \n",
       "3                            0.00956                    15.161493   \n",
       "4                            0.00956                    15.161493   \n",
       "5                            0.00956                    15.161493   \n",
       "6                            0.00956                    15.161493   \n",
       "7                            0.00956                    15.161493   \n",
       "8                            0.00956                    15.161493   \n",
       "9                            0.00956                    15.161493   \n",
       "\n",
       "   u_component_of_wind_10m_above_ground  v_component_of_wind_10m_above_ground  \\\n",
       "0                             -0.012186                             -0.933914   \n",
       "1                             -0.012186                             -0.933914   \n",
       "2                             -0.012186                             -0.933914   \n",
       "3                             -0.012186                             -0.933914   \n",
       "4                             -0.012186                             -0.933914   \n",
       "5                             -0.012186                             -0.933914   \n",
       "6                             -0.012186                             -0.933914   \n",
       "7                             -0.012186                             -0.933914   \n",
       "8                             -0.012186                             -0.933914   \n",
       "9                             -0.012186                             -0.933914   \n",
       "\n",
       "                  ddif  \n",
       "0  2018-01-01 00:25:46  \n",
       "1      0 days 01:36:53  \n",
       "2      0 days 00:29:10  \n",
       "3      0 days 00:32:12  \n",
       "4      0 days 00:54:48  \n",
       "5      0 days 00:05:20  \n",
       "6      0 days 01:27:08  \n",
       "7      0 days 02:26:39  \n",
       "8      0 days 01:59:31  \n",
       "9      0 days 00:51:32  "
      ]
     },
     "execution_count": 91,
     "metadata": {},
     "output_type": "execute_result"
    }
   ],
   "source": [
    "X.head(10)"
   ]
  },
  {
   "cell_type": "code",
   "execution_count": 90,
   "metadata": {},
   "outputs": [
    {
     "data": {
      "text/plain": [
       "00:00:30    266\n",
       "00:01:00    114\n",
       "00:02:00    108\n",
       "00:02:30     92\n",
       "00:01:30     86\n",
       "           ... \n",
       "00:28:03      1\n",
       "12:35:00      1\n",
       "18:06:30      1\n",
       "05:35:30      1\n",
       "02:11:46      1\n",
       "Name: ddif, Length: 2142, dtype: int64"
      ]
     },
     "execution_count": 90,
     "metadata": {},
     "output_type": "execute_result"
    }
   ],
   "source": [
    "X['ddif'].value_counts()\n",
    "# сорямба, не могу отсортить, какой-то особый тип данных timedelta,  хотя вроде value_counts сортирует\n",
    "#видно, что какая-то хрень, часто аварии происходят через 30 сек друг от друга, что оч странно"
   ]
  },
  {
   "cell_type": "code",
   "execution_count": 17,
   "metadata": {},
   "outputs": [
    {
     "data": {
      "text/plain": [
       "<matplotlib.axes._subplots.AxesSubplot at 0x7fe12d981910>"
      ]
     },
     "execution_count": 17,
     "metadata": {},
     "output_type": "execute_result"
    },
    {
     "data": {
      "image/png": "[encoded data removed]",
      "text/plain": [
       "<Figure size 432x288 with 1 Axes>"
      ]
     },
     "metadata": {
      "needs_background": "light"
     },
     "output_type": "display_data"
    }
   ],
   "source": [
    "# Interestingly, Kenya has two rainy seasons per year!\n",
    "weather.set_index('Date')['precipitable_water_entire_atmosphere'].rolling(10).mean().plot()"
   ]
  },
  {
   "cell_type": "markdown",
   "metadata": {},
   "source": [
    "# Road Survey Data\n",
    "\n",
    "The road survey data contains many different measurements for each surveyed road segment. Unfortunately we can't access the raw data, and must work 'in the dark' in terms of what the column headings mean. However, the naming convention does at least show which columns may be related.\n",
    "\n",
    "To locate the road segments geographically, a geojson file is provided. Here is an example of merging the survey data with the segments and visualizing the result."
   ]
  },
  {
   "cell_type": "code",
   "execution_count": 18,
   "metadata": {},
   "outputs": [
    {
     "data": {
      "text/html": [
       "<div>\n",
       "<style scoped>\n",
       "    .dataframe tbody tr th:only-of-type {\n",
       "        vertical-align: middle;\n",
       "    }\n",
       "\n",
       "    .dataframe tbody tr th {\n",
       "        vertical-align: top;\n",
       "    }\n",
       "\n",
       "    .dataframe thead th {\n",
       "        text-align: right;\n",
       "    }\n",
       "</style>\n",
       "<table border=\"1\" class=\"dataframe\">\n",
       "  <thead>\n",
       "    <tr style=\"text-align: right;\">\n",
       "      <th></th>\n",
       "      <th>segment_id</th>\n",
       "      <th>side</th>\n",
       "      <th>25_48</th>\n",
       "      <th>79_76</th>\n",
       "      <th>79_65</th>\n",
       "      <th>79_39</th>\n",
       "      <th>28_78_50</th>\n",
       "      <th>55_90</th>\n",
       "      <th>26_76</th>\n",
       "      <th>92_30</th>\n",
       "      <th>...</th>\n",
       "      <th>80_97_61_65_11</th>\n",
       "      <th>80_97_61_65_12</th>\n",
       "      <th>80_97_61_65_15</th>\n",
       "      <th>80_97_61_65_16</th>\n",
       "      <th>80_97_61_39_0</th>\n",
       "      <th>80_97_61_39_10</th>\n",
       "      <th>80_97_61_39_11</th>\n",
       "      <th>80_97_61_39_12</th>\n",
       "      <th>80_97_61_39_15</th>\n",
       "      <th>80_97_61_39_16</th>\n",
       "    </tr>\n",
       "  </thead>\n",
       "  <tbody>\n",
       "    <tr>\n",
       "      <td>0</td>\n",
       "      <td>176_2</td>\n",
       "      <td>1</td>\n",
       "      <td>3</td>\n",
       "      <td>0</td>\n",
       "      <td>3</td>\n",
       "      <td>3</td>\n",
       "      <td>0.0</td>\n",
       "      <td>11</td>\n",
       "      <td>0</td>\n",
       "      <td>1</td>\n",
       "      <td>...</td>\n",
       "      <td>0.0</td>\n",
       "      <td>1.0</td>\n",
       "      <td>0.0</td>\n",
       "      <td>0.0</td>\n",
       "      <td>0.0</td>\n",
       "      <td>0.0</td>\n",
       "      <td>0.0</td>\n",
       "      <td>1.0</td>\n",
       "      <td>0.0</td>\n",
       "      <td>0.0</td>\n",
       "    </tr>\n",
       "    <tr>\n",
       "      <td>1</td>\n",
       "      <td>176_2</td>\n",
       "      <td>2</td>\n",
       "      <td>3</td>\n",
       "      <td>0</td>\n",
       "      <td>3</td>\n",
       "      <td>3</td>\n",
       "      <td>0.0</td>\n",
       "      <td>11</td>\n",
       "      <td>0</td>\n",
       "      <td>1</td>\n",
       "      <td>...</td>\n",
       "      <td>0.0</td>\n",
       "      <td>1.0</td>\n",
       "      <td>0.0</td>\n",
       "      <td>0.0</td>\n",
       "      <td>0.0</td>\n",
       "      <td>0.0</td>\n",
       "      <td>0.0</td>\n",
       "      <td>1.0</td>\n",
       "      <td>0.0</td>\n",
       "      <td>0.0</td>\n",
       "    </tr>\n",
       "    <tr>\n",
       "      <td>2</td>\n",
       "      <td>95_1</td>\n",
       "      <td>1</td>\n",
       "      <td>3</td>\n",
       "      <td>0</td>\n",
       "      <td>3</td>\n",
       "      <td>3</td>\n",
       "      <td>0.0</td>\n",
       "      <td>14</td>\n",
       "      <td>0</td>\n",
       "      <td>3</td>\n",
       "      <td>...</td>\n",
       "      <td>NaN</td>\n",
       "      <td>NaN</td>\n",
       "      <td>NaN</td>\n",
       "      <td>NaN</td>\n",
       "      <td>NaN</td>\n",
       "      <td>NaN</td>\n",
       "      <td>NaN</td>\n",
       "      <td>NaN</td>\n",
       "      <td>NaN</td>\n",
       "      <td>NaN</td>\n",
       "    </tr>\n",
       "    <tr>\n",
       "      <td>3</td>\n",
       "      <td>95_1</td>\n",
       "      <td>2</td>\n",
       "      <td>3</td>\n",
       "      <td>0</td>\n",
       "      <td>3</td>\n",
       "      <td>3</td>\n",
       "      <td>0.0</td>\n",
       "      <td>14</td>\n",
       "      <td>0</td>\n",
       "      <td>3</td>\n",
       "      <td>...</td>\n",
       "      <td>NaN</td>\n",
       "      <td>NaN</td>\n",
       "      <td>NaN</td>\n",
       "      <td>NaN</td>\n",
       "      <td>NaN</td>\n",
       "      <td>NaN</td>\n",
       "      <td>NaN</td>\n",
       "      <td>NaN</td>\n",
       "      <td>NaN</td>\n",
       "      <td>NaN</td>\n",
       "    </tr>\n",
       "    <tr>\n",
       "      <td>4</td>\n",
       "      <td>144_7</td>\n",
       "      <td>1</td>\n",
       "      <td>1</td>\n",
       "      <td>0</td>\n",
       "      <td>4</td>\n",
       "      <td>3</td>\n",
       "      <td>0.0</td>\n",
       "      <td>5</td>\n",
       "      <td>0</td>\n",
       "      <td>3</td>\n",
       "      <td>...</td>\n",
       "      <td>0.0</td>\n",
       "      <td>1.0</td>\n",
       "      <td>0.0</td>\n",
       "      <td>0.0</td>\n",
       "      <td>1.0</td>\n",
       "      <td>1.0</td>\n",
       "      <td>0.0</td>\n",
       "      <td>0.0</td>\n",
       "      <td>0.0</td>\n",
       "      <td>0.0</td>\n",
       "    </tr>\n",
       "  </tbody>\n",
       "</table>\n",
       "<p>5 rows × 228 columns</p>\n",
       "</div>"
      ],
      "text/plain": [
       "  segment_id  side  25_48  79_76  79_65  79_39  28_78_50  55_90  26_76  92_30  \\\n",
       "0      176_2     1      3      0      3      3       0.0     11      0      1   \n",
       "1      176_2     2      3      0      3      3       0.0     11      0      1   \n",
       "2       95_1     1      3      0      3      3       0.0     14      0      3   \n",
       "3       95_1     2      3      0      3      3       0.0     14      0      3   \n",
       "4      144_7     1      1      0      4      3       0.0      5      0      3   \n",
       "\n",
       "   ...  80_97_61_65_11  80_97_61_65_12  80_97_61_65_15  80_97_61_65_16  \\\n",
       "0  ...             0.0             1.0             0.0             0.0   \n",
       "1  ...             0.0             1.0             0.0             0.0   \n",
       "2  ...             NaN             NaN             NaN             NaN   \n",
       "3  ...             NaN             NaN             NaN             NaN   \n",
       "4  ...             0.0             1.0             0.0             0.0   \n",
       "\n",
       "   80_97_61_39_0  80_97_61_39_10  80_97_61_39_11  80_97_61_39_12  \\\n",
       "0            0.0             0.0             0.0             1.0   \n",
       "1            0.0             0.0             0.0             1.0   \n",
       "2            NaN             NaN             NaN             NaN   \n",
       "3            NaN             NaN             NaN             NaN   \n",
       "4            1.0             1.0             0.0             0.0   \n",
       "\n",
       "   80_97_61_39_15  80_97_61_39_16  \n",
       "0             0.0             0.0  \n",
       "1             0.0             0.0  \n",
       "2             NaN             NaN  \n",
       "3             NaN             NaN  \n",
       "4             0.0             0.0  \n",
       "\n",
       "[5 rows x 228 columns]"
      ]
     },
     "execution_count": 18,
     "metadata": {},
     "output_type": "execute_result"
    }
   ],
   "source": [
    "# Load the survey data\n",
    "road_surveys = pd.read_csv('Data/Segment_info.csv')\n",
    "road_surveys.head()"
   ]
  },
  {
   "cell_type": "code",
   "execution_count": 28,
   "metadata": {},
   "outputs": [
    {
     "name": "stdout",
     "output_type": "stream",
     "text": [
      "LINESTRING (36.8260292 -1.2844709, 36.82604954936898 -1.284444101379869, 36.82607659422822 -1.284408485292231, 36.82610363908745 -1.284372869204592, 36.82613068394668 -1.284337253116954, 36.82615772880592 -1.284301637029317, 36.82618477366515 -1.284266020941681, 36.82621181852438 -1.284230404854043, 36.82623886338362 -1.284194788766405, 36.82626590824285 -1.284159172678767, 36.82629295310208 -1.284123556591129, 36.82631926297672 -1.284087419110355, 36.82634394088594 -1.284050123924252, 36.82636861879516 -1.28401282873815, 36.82639329670437 -1.283975533552048, 36.82641797461358 -1.283938238365946, 36.82644161135365 -1.283900297970969, 36.82646402598816 -1.283861600241459, 36.82648644062267 -1.283822902511947, 36.82650885525718 -1.283784204782435, 36.8265312698917 -1.283745507052925, 36.82655560717792 -1.283708049463544)\n"
     ]
    }
   ],
   "source": [
    "# Load the map\n",
    "road_segment_locs = gpd.read_file('Data/segments_geometry.geojson')\n",
    "road_segment_locs.head()\n",
    "print(road_segment_locs.geometry[0])"
   ]
  },
  {
   "cell_type": "code",
   "execution_count": 26,
   "metadata": {},
   "outputs": [
    {
     "data": {
      "text/plain": [
       "<matplotlib.axes._subplots.AxesSubplot at 0x7fe1303ef6d0>"
      ]
     },
     "execution_count": 26,
     "metadata": {},
     "output_type": "execute_result"
    },
    {
     "data": {
      "image/png": "[encoded data removed]",
      "text/plain": [
       "<Figure size 432x288 with 1 Axes>"
      ]
     },
     "metadata": {
      "needs_background": "light"
     },
     "output_type": "display_data"
    }
   ],
   "source": [
    "# Because this is a geodataframe, we can plot it\n",
    "road_segment_locs.plot()"
   ]
  },
  {
   "cell_type": "code",
   "execution_count": 93,
   "metadata": {},
   "outputs": [
    {
     "data": {
      "text/plain": [
       "<matplotlib.axes._subplots.AxesSubplot at 0x7fe130e69ad0>"
      ]
     },
     "execution_count": 93,
     "metadata": {},
     "output_type": "execute_result"
    },
    {
     "data": {
      "image/png": "[encoded data removed]",
      "text/plain": [
       "<Figure size 1440x576 with 1 Axes>"
      ]
     },
     "metadata": {
      "needs_background": "light"
     },
     "output_type": "display_data"
    }
   ],
   "source": [
    "# Let's merge the two and color by one of the survey columns\n",
    "segments_merged = pd.merge(road_segment_locs, road_surveys, on='segment_id', how='left')\n",
    "segments_merged.plot(column='55_90', figsize=(20, 8))"
   ]
  },
  {
   "cell_type": "code",
   "execution_count": null,
   "metadata": {},
   "outputs": [],
   "source": [
    "segments_merged.plot(column='55_90', figsize=(20, 8))"
   ]
  },
  {
   "cell_type": "markdown",
   "metadata": {},
   "source": [
    "This data will come in useful if you're trying to predict the number of crashes along a particular road, or within a specified region. "
   ]
  },
  {
   "cell_type": "markdown",
   "metadata": {},
   "source": [
    "# Adding Uber Data\n",
    "\n",
    "You can access speed data from https://movement.uber.com/explore/nairobi/speeds and clicking 'Download Data'. Here we'll load in the speeds from January 2019 and explore the data briefly."
   ]
  },
  {
   "cell_type": "code",
   "execution_count": 22,
   "metadata": {},
   "outputs": [
    {
     "ename": "FileNotFoundError",
     "evalue": "[Errno 2] File b'../uber_data/movement-speeds-hourly-nairobi-2019-1.csv' does not exist: b'../uber_data/movement-speeds-hourly-nairobi-2019-1.csv'",
     "output_type": "error",
     "traceback": [
      "\u001b[0;31m---------------------------------------------------------------------------\u001b[0m",
      "\u001b[0;31mFileNotFoundError\u001b[0m                         Traceback (most recent call last)",
      "\u001b[0;32m<ipython-input-22-53e82f42dc67>\u001b[0m in \u001b[0;36m<module>\u001b[0;34m\u001b[0m\n\u001b[0;32m----> 1\u001b[0;31m \u001b[0mspeeds\u001b[0m \u001b[0;34m=\u001b[0m \u001b[0mpd\u001b[0m\u001b[0;34m.\u001b[0m\u001b[0mread_csv\u001b[0m\u001b[0;34m(\u001b[0m\u001b[0;34m'../uber_data/movement-speeds-hourly-nairobi-2019-1.csv'\u001b[0m\u001b[0;34m,\u001b[0m \u001b[0mparse_dates\u001b[0m\u001b[0;34m=\u001b[0m\u001b[0;34m[\u001b[0m\u001b[0;34m'utc_timestamp'\u001b[0m\u001b[0;34m]\u001b[0m\u001b[0;34m)\u001b[0m\u001b[0;34m\u001b[0m\u001b[0;34m\u001b[0m\u001b[0m\n\u001b[0m\u001b[1;32m      2\u001b[0m \u001b[0mspeeds\u001b[0m\u001b[0;34m.\u001b[0m\u001b[0mhead\u001b[0m\u001b[0;34m(\u001b[0m\u001b[0;34m)\u001b[0m\u001b[0;34m\u001b[0m\u001b[0;34m\u001b[0m\u001b[0m\n",
      "\u001b[0;32m~/opt/anaconda3/lib/python3.7/site-packages/pandas/io/parsers.py\u001b[0m in \u001b[0;36mparser_f\u001b[0;34m(filepath_or_buffer, sep, delimiter, header, names, index_col, usecols, squeeze, prefix, mangle_dupe_cols, dtype, engine, converters, true_values, false_values, skipinitialspace, skiprows, skipfooter, nrows, na_values, keep_default_na, na_filter, verbose, skip_blank_lines, parse_dates, infer_datetime_format, keep_date_col, date_parser, dayfirst, cache_dates, iterator, chunksize, compression, thousands, decimal, lineterminator, quotechar, quoting, doublequote, escapechar, comment, encoding, dialect, error_bad_lines, warn_bad_lines, delim_whitespace, low_memory, memory_map, float_precision)\u001b[0m\n\u001b[1;32m    683\u001b[0m         )\n\u001b[1;32m    684\u001b[0m \u001b[0;34m\u001b[0m\u001b[0m\n\u001b[0;32m--> 685\u001b[0;31m         \u001b[0;32mreturn\u001b[0m \u001b[0m_read\u001b[0m\u001b[0;34m(\u001b[0m\u001b[0mfilepath_or_buffer\u001b[0m\u001b[0;34m,\u001b[0m \u001b[0mkwds\u001b[0m\u001b[0;34m)\u001b[0m\u001b[0;34m\u001b[0m\u001b[0;34m\u001b[0m\u001b[0m\n\u001b[0m\u001b[1;32m    686\u001b[0m \u001b[0;34m\u001b[0m\u001b[0m\n\u001b[1;32m    687\u001b[0m     \u001b[0mparser_f\u001b[0m\u001b[0;34m.\u001b[0m\u001b[0m__name__\u001b[0m \u001b[0;34m=\u001b[0m \u001b[0mname\u001b[0m\u001b[0;34m\u001b[0m\u001b[0;34m\u001b[0m\u001b[0m\n",
      "\u001b[0;32m~/opt/anaconda3/lib/python3.7/site-packages/pandas/io/parsers.py\u001b[0m in \u001b[0;36m_read\u001b[0;34m(filepath_or_buffer, kwds)\u001b[0m\n\u001b[1;32m    455\u001b[0m \u001b[0;34m\u001b[0m\u001b[0m\n\u001b[1;32m    456\u001b[0m     \u001b[0;31m# Create the parser.\u001b[0m\u001b[0;34m\u001b[0m\u001b[0;34m\u001b[0m\u001b[0;34m\u001b[0m\u001b[0m\n\u001b[0;32m--> 457\u001b[0;31m     \u001b[0mparser\u001b[0m \u001b[0;34m=\u001b[0m \u001b[0mTextFileReader\u001b[0m\u001b[0;34m(\u001b[0m\u001b[0mfp_or_buf\u001b[0m\u001b[0;34m,\u001b[0m \u001b[0;34m**\u001b[0m\u001b[0mkwds\u001b[0m\u001b[0;34m)\u001b[0m\u001b[0;34m\u001b[0m\u001b[0;34m\u001b[0m\u001b[0m\n\u001b[0m\u001b[1;32m    458\u001b[0m \u001b[0;34m\u001b[0m\u001b[0m\n\u001b[1;32m    459\u001b[0m     \u001b[0;32mif\u001b[0m \u001b[0mchunksize\u001b[0m \u001b[0;32mor\u001b[0m \u001b[0miterator\u001b[0m\u001b[0;34m:\u001b[0m\u001b[0;34m\u001b[0m\u001b[0;34m\u001b[0m\u001b[0m\n",
      "\u001b[0;32m~/opt/anaconda3/lib/python3.7/site-packages/pandas/io/parsers.py\u001b[0m in \u001b[0;36m__init__\u001b[0;34m(self, f, engine, **kwds)\u001b[0m\n\u001b[1;32m    893\u001b[0m             \u001b[0mself\u001b[0m\u001b[0;34m.\u001b[0m\u001b[0moptions\u001b[0m\u001b[0;34m[\u001b[0m\u001b[0;34m\"has_index_names\"\u001b[0m\u001b[0;34m]\u001b[0m \u001b[0;34m=\u001b[0m \u001b[0mkwds\u001b[0m\u001b[0;34m[\u001b[0m\u001b[0;34m\"has_index_names\"\u001b[0m\u001b[0;34m]\u001b[0m\u001b[0;34m\u001b[0m\u001b[0;34m\u001b[0m\u001b[0m\n\u001b[1;32m    894\u001b[0m \u001b[0;34m\u001b[0m\u001b[0m\n\u001b[0;32m--> 895\u001b[0;31m         \u001b[0mself\u001b[0m\u001b[0;34m.\u001b[0m\u001b[0m_make_engine\u001b[0m\u001b[0;34m(\u001b[0m\u001b[0mself\u001b[0m\u001b[0;34m.\u001b[0m\u001b[0mengine\u001b[0m\u001b[0;34m)\u001b[0m\u001b[0;34m\u001b[0m\u001b[0;34m\u001b[0m\u001b[0m\n\u001b[0m\u001b[1;32m    896\u001b[0m \u001b[0;34m\u001b[0m\u001b[0m\n\u001b[1;32m    897\u001b[0m     \u001b[0;32mdef\u001b[0m \u001b[0mclose\u001b[0m\u001b[0;34m(\u001b[0m\u001b[0mself\u001b[0m\u001b[0;34m)\u001b[0m\u001b[0;34m:\u001b[0m\u001b[0;34m\u001b[0m\u001b[0;34m\u001b[0m\u001b[0m\n",
      "\u001b[0;32m~/opt/anaconda3/lib/python3.7/site-packages/pandas/io/parsers.py\u001b[0m in \u001b[0;36m_make_engine\u001b[0;34m(self, engine)\u001b[0m\n\u001b[1;32m   1133\u001b[0m     \u001b[0;32mdef\u001b[0m \u001b[0m_make_engine\u001b[0m\u001b[0;34m(\u001b[0m\u001b[0mself\u001b[0m\u001b[0;34m,\u001b[0m \u001b[0mengine\u001b[0m\u001b[0;34m=\u001b[0m\u001b[0;34m\"c\"\u001b[0m\u001b[0;34m)\u001b[0m\u001b[0;34m:\u001b[0m\u001b[0;34m\u001b[0m\u001b[0;34m\u001b[0m\u001b[0m\n\u001b[1;32m   1134\u001b[0m         \u001b[0;32mif\u001b[0m \u001b[0mengine\u001b[0m \u001b[0;34m==\u001b[0m \u001b[0;34m\"c\"\u001b[0m\u001b[0;34m:\u001b[0m\u001b[0;34m\u001b[0m\u001b[0;34m\u001b[0m\u001b[0m\n\u001b[0;32m-> 1135\u001b[0;31m             \u001b[0mself\u001b[0m\u001b[0;34m.\u001b[0m\u001b[0m_engine\u001b[0m \u001b[0;34m=\u001b[0m \u001b[0mCParserWrapper\u001b[0m\u001b[0;34m(\u001b[0m\u001b[0mself\u001b[0m\u001b[0;34m.\u001b[0m\u001b[0mf\u001b[0m\u001b[0;34m,\u001b[0m \u001b[0;34m**\u001b[0m\u001b[0mself\u001b[0m\u001b[0;34m.\u001b[0m\u001b[0moptions\u001b[0m\u001b[0;34m)\u001b[0m\u001b[0;34m\u001b[0m\u001b[0;34m\u001b[0m\u001b[0m\n\u001b[0m\u001b[1;32m   1136\u001b[0m         \u001b[0;32melse\u001b[0m\u001b[0;34m:\u001b[0m\u001b[0;34m\u001b[0m\u001b[0;34m\u001b[0m\u001b[0m\n\u001b[1;32m   1137\u001b[0m             \u001b[0;32mif\u001b[0m \u001b[0mengine\u001b[0m \u001b[0;34m==\u001b[0m \u001b[0;34m\"python\"\u001b[0m\u001b[0;34m:\u001b[0m\u001b[0;34m\u001b[0m\u001b[0;34m\u001b[0m\u001b[0m\n",
      "\u001b[0;32m~/opt/anaconda3/lib/python3.7/site-packages/pandas/io/parsers.py\u001b[0m in \u001b[0;36m__init__\u001b[0;34m(self, src, **kwds)\u001b[0m\n\u001b[1;32m   1915\u001b[0m         \u001b[0mkwds\u001b[0m\u001b[0;34m[\u001b[0m\u001b[0;34m\"usecols\"\u001b[0m\u001b[0;34m]\u001b[0m \u001b[0;34m=\u001b[0m \u001b[0mself\u001b[0m\u001b[0;34m.\u001b[0m\u001b[0musecols\u001b[0m\u001b[0;34m\u001b[0m\u001b[0;34m\u001b[0m\u001b[0m\n\u001b[1;32m   1916\u001b[0m \u001b[0;34m\u001b[0m\u001b[0m\n\u001b[0;32m-> 1917\u001b[0;31m         \u001b[0mself\u001b[0m\u001b[0;34m.\u001b[0m\u001b[0m_reader\u001b[0m \u001b[0;34m=\u001b[0m \u001b[0mparsers\u001b[0m\u001b[0;34m.\u001b[0m\u001b[0mTextReader\u001b[0m\u001b[0;34m(\u001b[0m\u001b[0msrc\u001b[0m\u001b[0;34m,\u001b[0m \u001b[0;34m**\u001b[0m\u001b[0mkwds\u001b[0m\u001b[0;34m)\u001b[0m\u001b[0;34m\u001b[0m\u001b[0;34m\u001b[0m\u001b[0m\n\u001b[0m\u001b[1;32m   1918\u001b[0m         \u001b[0mself\u001b[0m\u001b[0;34m.\u001b[0m\u001b[0munnamed_cols\u001b[0m \u001b[0;34m=\u001b[0m \u001b[0mself\u001b[0m\u001b[0;34m.\u001b[0m\u001b[0m_reader\u001b[0m\u001b[0;34m.\u001b[0m\u001b[0munnamed_cols\u001b[0m\u001b[0;34m\u001b[0m\u001b[0;34m\u001b[0m\u001b[0m\n\u001b[1;32m   1919\u001b[0m \u001b[0;34m\u001b[0m\u001b[0m\n",
      "\u001b[0;32mpandas/_libs/parsers.pyx\u001b[0m in \u001b[0;36mpandas._libs.parsers.TextReader.__cinit__\u001b[0;34m()\u001b[0m\n",
      "\u001b[0;32mpandas/_libs/parsers.pyx\u001b[0m in \u001b[0;36mpandas._libs.parsers.TextReader._setup_parser_source\u001b[0;34m()\u001b[0m\n",
      "\u001b[0;31mFileNotFoundError\u001b[0m: [Errno 2] File b'../uber_data/movement-speeds-hourly-nairobi-2019-1.csv' does not exist: b'../uber_data/movement-speeds-hourly-nairobi-2019-1.csv'"
     ]
    }
   ],
   "source": [
    "speeds = pd.read_csv('../uber_data/movement-speeds-hourly-nairobi-2019-1.csv', parse_dates=['utc_timestamp'])\n",
    "speeds.head()"
   ]
  },
  {
   "cell_type": "code",
   "execution_count": null,
   "metadata": {},
   "outputs": [],
   "source": [
    "# Plot speeds over time for a specific OSM way\n",
    "way = speeds.loc[speeds.osm_way_id == 133901081]\n",
    "way = way.set_index('utc_timestamp')\n",
    "way.resample('1h').mean().plot(y='speed_kph_mean')"
   ]
  },
  {
   "cell_type": "code",
   "execution_count": null,
   "metadata": {},
   "outputs": [],
   "source": [
    "way.resample('1D').mean().plot(y='speed_kph_mean')"
   ]
  },
  {
   "cell_type": "markdown",
   "metadata": {},
   "source": [
    "You can use any and all data available through Uber Movement, including linking the speeds data to OSM segments, downloading quarterly statistics, using the Movement Data Toolkit etc."
   ]
  },
  {
   "cell_type": "markdown",
   "metadata": {},
   "source": [
    "You can find much more info about working with the speeds data here: https://medium.com/uber-movement/working-with-uber-movement-speeds-data-cc01d35937b3 - including how to link the segment_id with OSM data"
   ]
  },
  {
   "cell_type": "markdown",
   "metadata": {},
   "source": [
    "# What Next?\n",
    "\n",
    "There are many ways you could approach this challenge. For example, you could:\n",
    "- Create a model to predict the liklihood of an accident given a location, the features of the nearby road segments, the weather, the traffic speed and the time of day\n",
    "- Use this model to predict the probability of crashes for different times+locations over the test period, and then sample from this probability distribution to generate plausible crash locations.\n",
    "- Use an optimization technique to minimise the travel distance for the ambulances to your fake crash points. \n",
    "\n",
    "This might seem too complicated - perhaps simply picking 6 fixed locations based on the existing data will be enough? Or maybe it's worth setting separate locations during busy traffic times? \n",
    "\n",
    "Perhaps a Reinforcement Learning aproach will do well? \n",
    "\n",
    "Or maybe you can see a totally different way to solve this!\n",
    "\n",
    "Share your ideas on the discussion boards, and let's see how innovative we can be :)"
   ]
  },
  {
   "cell_type": "code",
   "execution_count": null,
   "metadata": {},
   "outputs": [],
   "source": []
  },
  {
   "cell_type": "code",
   "execution_count": null,
   "metadata": {},
   "outputs": [],
   "source": []
  },
  {
   "cell_type": "code",
   "execution_count": null,
   "metadata": {},
   "outputs": [],
   "source": []
  }
 ],
 "metadata": {
  "kernelspec": {
   "display_name": "Python 3",
   "language": "python",
   "name": "python3"
  },
  "language_info": {
   "codemirror_mode": {
    "name": "ipython",
    "version": 3
   },
   "file_extension": ".py",
   "mimetype": "text/x-python",
   "name": "python",
   "nbconvert_exporter": "python",
   "pygments_lexer": "ipython3",
   "version": "3.7.4"
  }
 },
 "nbformat": 4,
 "nbformat_minor": 4
}
